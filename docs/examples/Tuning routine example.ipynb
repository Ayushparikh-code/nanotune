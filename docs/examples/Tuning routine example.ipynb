{
 "cells": [
  {
   "cell_type": "code",
   "execution_count": 1,
   "id": "f573861e",
   "metadata": {},
   "outputs": [
    {
     "name": "stdout",
     "output_type": "stream",
     "text": [
      "Logging hadn't been started.\n",
      "Activating auto-logging. Current session state plus future input saved.\n",
      "Filename       : /Users/jana/.qcodes/logs/command_history.log\n",
      "Mode           : append\n",
      "Output logging : True\n",
      "Raw input log  : False\n",
      "Timestamping   : True\n",
      "State          : active\n",
      "Qcodes Logfile : /Users/jana/.qcodes/logs/210528-74109-qcodes.log\n"
     ]
    },
    {
     "data": {
      "text/plain": [
       "prefect_demo#no_sample#6@/Users/jana/Documents/code/nanotune/nanotune/docs/examples/prefect_demo.db\n",
       "---------------------------------------------------------------------------------------------------"
      ]
     },
     "execution_count": 1,
     "metadata": {},
     "output_type": "execute_result"
    }
   ],
   "source": [
    "import os\n",
    "from prefect import task, Flow\n",
    "import qcodes as qc\n",
    "import nanotune as nt\n",
    "\n",
    "nt.new_database('prefect_demo.db', os.getcwd())\n",
    "qc.new_experiment('prefect_demo', 'no_sample')"
   ]
  },
  {
   "cell_type": "code",
   "execution_count": 2,
   "id": "2782583c",
   "metadata": {
    "scrolled": false
   },
   "outputs": [
    {
     "name": "stdout",
     "output_type": "stream",
     "text": [
      "C01R01_gate step 0.0005\n",
      "C01R01_gate inter_delay 0.00125\n"
     ]
    }
   ],
   "source": [
    "%run load_station.py"
   ]
  },
  {
   "cell_type": "code",
   "execution_count": 3,
   "id": "arctic-willow",
   "metadata": {},
   "outputs": [
    {
     "name": "stdout",
     "output_type": "stream",
     "text": [
      "/Users/jana/Documents/code/nanotune/nanotune/data/training_data/pinchoff.npy\n",
      "n_samples: 3699\n"
     ]
    }
   ],
   "source": [
    "%run train_classifier.py"
   ]
  },
  {
   "cell_type": "code",
   "execution_count": 4,
   "id": "dominican-empire",
   "metadata": {},
   "outputs": [
    {
     "data": {
      "text/plain": [
       "{'default_fmt': 'data/{date}/#{counter}_{name}_{time}',\n",
       " 'register_magic': True,\n",
       " 'import_legacy_api': False,\n",
       " 'db_location': '/Users/jana/Documents/code/nanotune/nanotune/docs/examples/prefect_demo.db',\n",
       " 'db_debug': False,\n",
       " 'loglevel': 'WARNING',\n",
       " 'file_loglevel': 'INFO'}"
      ]
     },
     "execution_count": 4,
     "metadata": {},
     "output_type": "execute_result"
    }
   ],
   "source": [
    "qc.config[\"core\"]"
   ]
  },
  {
   "cell_type": "code",
   "execution_count": 5,
   "id": "bd174ad3",
   "metadata": {},
   "outputs": [],
   "source": [
    "from typing import Tuple\n",
    "\n",
    "from nanotune.tuningstages.base_tasks import (\n",
    "    SetpointSettingsDict,\n",
    "    DataSettingsDict,\n",
    "    ReadoutMethodsDict,\n",
    "    compute_linear_setpoints,\n",
    "    swap_range_limits_if_needed,\n",
    "    get_current_voltages,\n",
    "    take_data_add_metadata,\n",
    "    set_up_gates_for_measurement,\n",
    "    prepare_metadata,\n",
    "    get_extracted_features,\n",
    "    check_measurement_quality\n",
    ")\n",
    "\n",
    "from nanotune.tuningstages.take_data import ramp_to_setpoint\n",
    "from nanotune.fit.pinchofffit import PinchoffFit"
   ]
  },
  {
   "cell_type": "code",
   "execution_count": 6,
   "id": "magnetic-namibia",
   "metadata": {},
   "outputs": [],
   "source": [
    "mux.drive(True)"
   ]
  },
  {
   "cell_type": "code",
   "execution_count": 7,
   "id": "eed261d8",
   "metadata": {},
   "outputs": [],
   "source": [
    "@task\n",
    "def create_settings() -> Tuple[SetpointSettingsDict, ReadoutMethodsDict, DataSettingsDict]:\n",
    "    setpoint_settings = SetpointSettingsDict(\n",
    "        parameters_to_sweep=[chip.C01R01.gate], # gates to sweep (only 1D or 2D)\n",
    "        current_valid_ranges=[(-2.0, 0.0)], # expected range of pinch-off\n",
    "        safety_voltage_ranges=[(-3.0, 0.0)], # maximum voltages allowed\n",
    "        voltage_precision=0.01 # sweep step size\n",
    "    )\n",
    "\n",
    "    readout_methods = ReadoutMethodsDict(\n",
    "        dc_current = chip.C01R01.drain, # transport through the device\n",
    "        #dc_sensor = chip.C01R01.drain, # optional extra current sensing\n",
    "        rf = mux.readout # RF readout\n",
    "    )\n",
    "\n",
    "    data_settings = DataSettingsDict(\n",
    "        db_name=\"prefect_demo\",\n",
    "        db_folder=os.getcwd(),\n",
    "        normalization_constants={\"foo\": (1.0, 1.0)},\n",
    "        segment_size=1,\n",
    "    )\n",
    "\n",
    "    return (\n",
    "        setpoint_settings,\n",
    "        readout_methods,\n",
    "        data_settings\n",
    "    )"
   ]
  },
  {
   "cell_type": "code",
   "execution_count": 8,
   "id": "b3caa409",
   "metadata": {},
   "outputs": [],
   "source": [
    "@task\n",
    "def compute_setpoints(setpoint_settings):\n",
    "    initial_voltages = get_current_voltages(\n",
    "        setpoint_settings[\"parameters_to_sweep\"]\n",
    "    )\n",
    "\n",
    "    current_valid_ranges = swap_range_limits_if_needed(\n",
    "        initial_voltages,\n",
    "        setpoint_settings[\"current_valid_ranges\"]\n",
    "    )\n",
    "\n",
    "    setpoints = compute_linear_setpoints(\n",
    "        current_valid_ranges,\n",
    "        setpoint_settings[\"voltage_precision\"],\n",
    "    )\n",
    "    return setpoints"
   ]
  },
  {
   "cell_type": "code",
   "execution_count": 9,
   "id": "501e5968",
   "metadata": {},
   "outputs": [],
   "source": [
    "@task\n",
    "def measure(setpoints, setpoint_settings, data_settings, readout_methods):\n",
    "    example_param = setpoint_settings[\"parameters_to_sweep\"][0]\n",
    "    device_name = example_param.name_parts[0]\n",
    "    nt_meta = prepare_metadata(\n",
    "        chip.C01R01.name,\n",
    "        data_settings[\"normalization_constants\"],\n",
    "        readout_methods,\n",
    "    )\n",
    "    dc_sensor = readout_methods.get(\"dc_sensor\")\n",
    "    rf = readout_methods.get(\"rf\")\n",
    "\n",
    "    def finish_early(current_output_dict):\n",
    "        if dc_sensor is not None:\n",
    "            dc_value = current_output_dict[str(dc_sensor)]\n",
    "        dc_value = 0.0\n",
    "        rf_value = current_output_dict[str(rf)]\n",
    "        return dc_value < 0.0001 and rf_value < 0.0001\n",
    "\n",
    "    run_id = take_data_add_metadata(\n",
    "        setpoint_settings[\"parameters_to_sweep\"],\n",
    "        list(readout_methods.values()),  # type: ignore\n",
    "        setpoints,\n",
    "        finish_early_check=finish_early,\n",
    "        do_at_inner_setpoint=ramp_to_setpoint,\n",
    "        pre_measurement_metadata=nt_meta,\n",
    "    )\n",
    "\n",
    "    return run_id"
   ]
  },
  {
   "cell_type": "code",
   "execution_count": 10,
   "id": "f54d84ed",
   "metadata": {},
   "outputs": [],
   "source": [
    "@task\n",
    "def plot(run_id, setpoint_settings, readout_methods):\n",
    "    ds = qc.load_by_id(run_id)\n",
    "    gate = setpoint_settings[\"parameters_to_sweep\"][0]\n",
    "    dc_sensor = readout_methods.get(\"dc_sensor\")\n",
    "    rf = readout_methods.get(\"rf\")\n",
    "    df_dict = ds.to_pandas_dataframe_dict()\n",
    "    if dc_sensor is not None:\n",
    "        return [df_dict[str(dc_sensor)].plot(), df_dict[str(rf)].plot()]\n",
    "    return df_dict[str(rf)].plot()"
   ]
  },
  {
   "cell_type": "code",
   "execution_count": 11,
   "id": "joint-klein",
   "metadata": {},
   "outputs": [],
   "source": [
    "@task\n",
    "def extract_features(run_id, data_settings):\n",
    "    ml_result: Dict[str, Any] = {}\n",
    "    ml_result[\"features\"] = get_extracted_features(\n",
    "        PinchoffFit,\n",
    "        run_id,\n",
    "        data_settings[\"db_name\"],\n",
    "        db_folder=data_settings[\"db_folder\"],\n",
    "    )\n",
    "    ml_result[\"quality\"] = check_measurement_quality(\n",
    "        classifier,\n",
    "        run_id,\n",
    "        data_settings[\"db_name\"],\n",
    "        db_folder=data_settings[\"db_folder\"],\n",
    "    )\n",
    "    ml_result[\"regime\"] = \"pinchoff\"\n",
    "    return ml_result"
   ]
  },
  {
   "cell_type": "code",
   "execution_count": 12,
   "id": "negative-thermal",
   "metadata": {},
   "outputs": [],
   "source": [
    "@task\n",
    "def save_features(run_id, ml_result, data_settings):\n",
    "    save_extracted_features(\n",
    "        PinchoffFit,\n",
    "        run_id,\n",
    "        data_settings[\"db_name\"],\n",
    "        db_folder=data_settings[\"db_folder\"],\n",
    "    )\n",
    "    save_machine_learning_result(run_id, ml_result)"
   ]
  },
  {
   "cell_type": "code",
   "execution_count": 13,
   "id": "macro-parts",
   "metadata": {},
   "outputs": [],
   "source": [
    "@task\n",
    "def verify_result(ml_result):\n",
    "    return bool(ml_result[\"quality\"])"
   ]
  },
  {
   "cell_type": "code",
   "execution_count": 14,
   "id": "a36bc425",
   "metadata": {},
   "outputs": [],
   "source": [
    "with Flow(\"Pinch-off\") as flow:\n",
    "    (setpoint_settings, readout_methods, data_settings) = create_settings()\n",
    "    setpoints = compute_setpoints(setpoint_settings)\n",
    "    run_id = measure(setpoints, setpoint_settings, data_settings, readout_methods)\n",
    "    figs = plot(run_id, setpoint_settings, readout_methods)\n",
    "    # features = extract_features(run_id, data_settings)\n",
    "    # save_features(run_id, features, data_settings)\n",
    "    # success = verify_result(features)"
   ]
  },
  {
   "cell_type": "code",
   "execution_count": 15,
   "id": "497cdecf",
   "metadata": {},
   "outputs": [
    {
     "name": "stdout",
     "output_type": "stream",
     "text": [
      "[2021-05-28 10:44:00+0200] INFO - prefect.FlowRunner | Beginning Flow run for 'Pinch-off'\n",
      "[2021-05-28 10:44:00+0200] INFO - prefect.TaskRunner | Task 'create_settings': Starting task run...\n",
      "[2021-05-28 10:44:00+0200] INFO - prefect.TaskRunner | Task 'create_settings': Finished task run for task with final state: 'Success'\n",
      "[2021-05-28 10:44:00+0200] INFO - prefect.TaskRunner | Task 'create_settings[0]': Starting task run...\n",
      "[2021-05-28 10:44:01+0200] INFO - prefect.TaskRunner | Task 'create_settings[0]': Finished task run for task with final state: 'Success'\n",
      "[2021-05-28 10:44:01+0200] INFO - prefect.TaskRunner | Task 'compute_setpoints': Starting task run...\n",
      "[2021-05-28 10:44:01+0200] INFO - prefect.TaskRunner | Task 'compute_setpoints': Finished task run for task with final state: 'Success'\n",
      "[2021-05-28 10:44:01+0200] INFO - prefect.TaskRunner | Task 'create_settings[2]': Starting task run...\n",
      "[2021-05-28 10:44:01+0200] INFO - prefect.TaskRunner | Task 'create_settings[2]': Finished task run for task with final state: 'Success'\n",
      "[2021-05-28 10:44:01+0200] INFO - prefect.TaskRunner | Task 'create_settings[1]': Starting task run...\n",
      "[2021-05-28 10:44:01+0200] INFO - prefect.TaskRunner | Task 'create_settings[1]': Finished task run for task with final state: 'Success'\n",
      "[2021-05-28 10:44:01+0200] INFO - prefect.TaskRunner | Task 'measure': Starting task run...\n",
      "Starting experimental run with id: 5. \n",
      "[2021-05-28 10:44:12+0200] INFO - prefect.TaskRunner | Task 'measure': Finished task run for task with final state: 'Success'\n",
      "[2021-05-28 10:44:12+0200] INFO - prefect.TaskRunner | Task 'plot': Starting task run...\n",
      "[2021-05-28 10:44:12+0200] INFO - prefect.TaskRunner | Task 'plot': Finished task run for task with final state: 'Success'\n",
      "[2021-05-28 10:44:12+0200] INFO - prefect.FlowRunner | Flow run SUCCESS: all reference tasks succeeded\n"
     ]
    },
    {
     "data": {
      "image/png": "[encoded data removed]",
      "text/plain": [
       "<Figure size 432x288 with 1 Axes>"
      ]
     },
     "metadata": {
      "needs_background": "light"
     },
     "output_type": "display_data"
    }
   ],
   "source": [
    "state = flow.run()"
   ]
  },
  {
   "cell_type": "code",
   "execution_count": 16,
   "id": "9bb91fc9",
   "metadata": {},
   "outputs": [
    {
     "data": {
      "text/plain": [
       "<Success: \"All reference tasks succeeded.\">"
      ]
     },
     "execution_count": 16,
     "metadata": {},
     "output_type": "execute_result"
    }
   ],
   "source": [
    "state"
   ]
  },
  {
   "cell_type": "code",
   "execution_count": 17,
   "id": "square-building",
   "metadata": {},
   "outputs": [],
   "source": [
    "dataset = qc.load_by_id(state.result[run_id].result)"
   ]
  },
  {
   "cell_type": "code",
   "execution_count": 18,
   "id": "parental-sheriff",
   "metadata": {},
   "outputs": [
    {
     "data": {
      "text/html": [
       "<div>\n",
       "<style scoped>\n",
       "    .dataframe tbody tr th:only-of-type {\n",
       "        vertical-align: middle;\n",
       "    }\n",
       "\n",
       "    .dataframe tbody tr th {\n",
       "        vertical-align: top;\n",
       "    }\n",
       "\n",
       "    .dataframe thead th {\n",
       "        text-align: right;\n",
       "    }\n",
       "</style>\n",
       "<table border=\"1\" class=\"dataframe\">\n",
       "  <thead>\n",
       "    <tr style=\"text-align: right;\">\n",
       "      <th></th>\n",
       "      <th>C01R01_drain</th>\n",
       "      <th>mux_readout</th>\n",
       "    </tr>\n",
       "    <tr>\n",
       "      <th>C01R01_gate</th>\n",
       "      <th></th>\n",
       "      <th></th>\n",
       "    </tr>\n",
       "  </thead>\n",
       "  <tbody>\n",
       "    <tr>\n",
       "      <th>0.000000</th>\n",
       "      <td>2.399828e-03</td>\n",
       "      <td>0.008380</td>\n",
       "    </tr>\n",
       "    <tr>\n",
       "      <th>-0.010050</th>\n",
       "      <td>2.400045e-03</td>\n",
       "      <td>0.008369</td>\n",
       "    </tr>\n",
       "    <tr>\n",
       "      <th>-0.020101</th>\n",
       "      <td>2.400262e-03</td>\n",
       "      <td>0.008357</td>\n",
       "    </tr>\n",
       "    <tr>\n",
       "      <th>-0.030151</th>\n",
       "      <td>2.400479e-03</td>\n",
       "      <td>0.008346</td>\n",
       "    </tr>\n",
       "    <tr>\n",
       "      <th>-0.040201</th>\n",
       "      <td>2.400696e-03</td>\n",
       "      <td>0.008335</td>\n",
       "    </tr>\n",
       "    <tr>\n",
       "      <th>...</th>\n",
       "      <td>...</td>\n",
       "      <td>...</td>\n",
       "    </tr>\n",
       "    <tr>\n",
       "      <th>-1.959799</th>\n",
       "      <td>-3.759480e-07</td>\n",
       "      <td>0.002004</td>\n",
       "    </tr>\n",
       "    <tr>\n",
       "      <th>-1.969849</th>\n",
       "      <td>-3.921679e-07</td>\n",
       "      <td>0.002004</td>\n",
       "    </tr>\n",
       "    <tr>\n",
       "      <th>-1.979899</th>\n",
       "      <td>-4.083877e-07</td>\n",
       "      <td>0.002004</td>\n",
       "    </tr>\n",
       "    <tr>\n",
       "      <th>-1.989950</th>\n",
       "      <td>-4.246076e-07</td>\n",
       "      <td>0.002004</td>\n",
       "    </tr>\n",
       "    <tr>\n",
       "      <th>-2.000000</th>\n",
       "      <td>-4.408274e-07</td>\n",
       "      <td>0.002004</td>\n",
       "    </tr>\n",
       "  </tbody>\n",
       "</table>\n",
       "<p>200 rows × 2 columns</p>\n",
       "</div>"
      ],
      "text/plain": [
       "             C01R01_drain  mux_readout\n",
       "C01R01_gate                           \n",
       " 0.000000    2.399828e-03     0.008380\n",
       "-0.010050    2.400045e-03     0.008369\n",
       "-0.020101    2.400262e-03     0.008357\n",
       "-0.030151    2.400479e-03     0.008346\n",
       "-0.040201    2.400696e-03     0.008335\n",
       "...                   ...          ...\n",
       "-1.959799   -3.759480e-07     0.002004\n",
       "-1.969849   -3.921679e-07     0.002004\n",
       "-1.979899   -4.083877e-07     0.002004\n",
       "-1.989950   -4.246076e-07     0.002004\n",
       "-2.000000   -4.408274e-07     0.002004\n",
       "\n",
       "[200 rows x 2 columns]"
      ]
     },
     "execution_count": 18,
     "metadata": {},
     "output_type": "execute_result"
    }
   ],
   "source": [
    "dataset.to_pandas_dataframe()"
   ]
  },
  {
   "cell_type": "code",
   "execution_count": 19,
   "id": "mounted-tsunami",
   "metadata": {},
   "outputs": [],
   "source": [
    "_data_settings = state.result[data_settings].result"
   ]
  },
  {
   "cell_type": "code",
   "execution_count": 22,
   "id": "brave-order",
   "metadata": {},
   "outputs": [
    {
     "name": "stderr",
     "output_type": "stream",
     "text": [
      "2021-05-28 10:44:35,936 ¦ nanotune.data.dataset ¦ WARNING ¦ dataset ¦ _normalize_data ¦ 245 ¦ ('Dataset 5: ', 'Wrong normalization constant')\n",
      "2021-05-28 10:44:36,041 ¦ nanotune.data.dataset ¦ WARNING ¦ dataset ¦ _normalize_data ¦ 245 ¦ ('Dataset 5: ', 'Wrong normalization constant')\n"
     ]
    }
   ],
   "source": [
    "ml_result = extract_features.run(5, _data_settings)"
   ]
  },
  {
   "cell_type": "code",
   "execution_count": 23,
   "id": "institutional-leave",
   "metadata": {},
   "outputs": [
    {
     "data": {
      "text/plain": [
       "{'features': {'dc_current': {'amplitude': 0.0011167654865272606,\n",
       "   'slope': 9.903137863310576,\n",
       "   'offset': -5.232725543121401,\n",
       "   'residuals': 0.0733490041452782,\n",
       "   'low_voltage': -1.11557788944724,\n",
       "   'high_voltage': -0.844221105527638,\n",
       "   'low_signal': 6.0708748950183076e-05,\n",
       "   'high_signal': 0.0016126905821371548,\n",
       "   'transition_voltage': -1.07537688442211,\n",
       "   'transition_signal': 0.00038377373992561157,\n",
       "   'max_signal': 0.00240069555877538,\n",
       "   'min_signal': -4.40827416964233e-07},\n",
       "  'rf': {'amplitude': 0.005092037579797305,\n",
       "   'slope': 2.304189366203748,\n",
       "   'offset': -1.3004700128233273,\n",
       "   'residuals': 0.14330697910246598,\n",
       "   'low_voltage': -1.10552763819095,\n",
       "   'high_voltage': -0.773869346733668,\n",
       "   'low_signal': 0.0021171215117249,\n",
       "   'high_signal': 0.006521587085086477,\n",
       "   'transition_voltage': -0.954773869346734,\n",
       "   'transition_signal': 0.0043826023999943235,\n",
       "   'max_signal': 0.00837996416850713,\n",
       "   'min_signal': 0.00200014074048982}},\n",
       " 'quality': False,\n",
       " 'regime': 'pinchoff'}"
      ]
     },
     "execution_count": 23,
     "metadata": {},
     "output_type": "execute_result"
    }
   ],
   "source": [
    "ml_result"
   ]
  },
  {
   "cell_type": "code",
   "execution_count": null,
   "id": "appropriate-server",
   "metadata": {},
   "outputs": [],
   "source": []
  }
 ],
 "metadata": {
  "kernelspec": {
   "display_name": "Python 3",
   "language": "python",
   "name": "python3"
  },
  "language_info": {
   "codemirror_mode": {
    "name": "ipython",
    "version": 3
   },
   "file_extension": ".py",
   "mimetype": "text/x-python",
   "name": "python",
   "nbconvert_exporter": "python",
   "pygments_lexer": "ipython3",
   "version": "3.7.9"
  }
 },
 "nbformat": 4,
 "nbformat_minor": 5
}
