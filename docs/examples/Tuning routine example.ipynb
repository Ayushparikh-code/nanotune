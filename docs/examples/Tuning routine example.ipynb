{
 "cells": [
  {
   "cell_type": "code",
   "execution_count": 1,
   "id": "f573861e",
   "metadata": {},
   "outputs": [
    {
     "name": "stdout",
     "output_type": "stream",
     "text": [
      "Logging hadn't been started.\n",
      "Activating auto-logging. Current session state plus future input saved.\n",
      "Filename       : /Users/jana/.qcodes/logs/command_history.log\n",
      "Mode           : append\n",
      "Output logging : True\n",
      "Raw input log  : False\n",
      "Timestamping   : True\n",
      "State          : active\n",
      "Qcodes Logfile : /Users/jana/.qcodes/logs/210528-79433-qcodes.log\n"
     ]
    },
    {
     "data": {
      "text/plain": [
       "prefect_demo#no_sample#13@/Users/jana/Documents/code/nanotune/nanotune/docs/examples/prefect_demo.db\n",
       "----------------------------------------------------------------------------------------------------"
      ]
     },
     "execution_count": 1,
     "metadata": {},
     "output_type": "execute_result"
    }
   ],
   "source": [
    "import os\n",
    "from prefect import task, Flow\n",
    "import qcodes as qc\n",
    "import nanotune as nt\n",
    "\n",
    "nt.new_database('prefect_demo.db', os.getcwd())\n",
    "qc.new_experiment('prefect_demo', 'no_sample')"
   ]
  },
  {
   "cell_type": "code",
   "execution_count": 2,
   "id": "2782583c",
   "metadata": {
    "scrolled": false
   },
   "outputs": [
    {
     "name": "stdout",
     "output_type": "stream",
     "text": [
      "C01R01_gate step 0.0005\n",
      "C01R01_gate inter_delay 0.00125\n"
     ]
    }
   ],
   "source": [
    "%run load_station.py"
   ]
  },
  {
   "cell_type": "code",
   "execution_count": 3,
   "id": "arctic-willow",
   "metadata": {},
   "outputs": [
    {
     "name": "stdout",
     "output_type": "stream",
     "text": [
      "/Users/jana/Documents/code/nanotune/nanotune/data/training_data/pinchoff.npy\n",
      "n_samples: 3699\n"
     ]
    }
   ],
   "source": [
    "%run train_classifier.py"
   ]
  },
  {
   "cell_type": "code",
   "execution_count": 4,
   "id": "bd174ad3",
   "metadata": {},
   "outputs": [],
   "source": [
    "from typing import Tuple\n",
    "\n",
    "from nanotune.tuningstages.base_tasks import (\n",
    "    SetpointSettingsDict,\n",
    "    DataSettingsDict,\n",
    "    ReadoutMethodsDict,\n",
    "    compute_linear_setpoints,\n",
    "    swap_range_limits_if_needed,\n",
    "    get_current_voltages,\n",
    "    take_data_add_metadata,\n",
    "    set_up_gates_for_measurement,\n",
    "    prepare_metadata,\n",
    "    get_extracted_features,\n",
    "    check_measurement_quality,\n",
    "    save_extracted_features,\n",
    "    save_machine_learning_result,\n",
    ")\n",
    "\n",
    "from nanotune.tuningstages.take_data import ramp_to_setpoint\n",
    "from nanotune.fit.pinchofffit import PinchoffFit"
   ]
  },
  {
   "cell_type": "code",
   "execution_count": 5,
   "id": "magnetic-namibia",
   "metadata": {},
   "outputs": [],
   "source": [
    "mux.drive(True)"
   ]
  },
  {
   "cell_type": "code",
   "execution_count": 6,
   "id": "eed261d8",
   "metadata": {},
   "outputs": [],
   "source": [
    "@task\n",
    "def create_settings() -> Tuple[SetpointSettingsDict, ReadoutMethodsDict, DataSettingsDict]:\n",
    "    setpoint_settings = SetpointSettingsDict(\n",
    "        parameters_to_sweep=[chip.C01R01.gate], # gates to sweep (only 1D or 2D)\n",
    "        current_valid_ranges=[(-2.0, 0.0)], # expected range of pinch-off\n",
    "        safety_voltage_ranges=[(-3.0, 0.0)], # maximum voltages allowed\n",
    "        voltage_precision=0.01 # sweep step size\n",
    "    )\n",
    "\n",
    "    readout_methods = ReadoutMethodsDict(\n",
    "        dc_current = chip.C01R01.drain, # transport through the device\n",
    "        #dc_sensor = chip.C01R01.drain, # optional extra current sensing\n",
    "        rf = mux.readout # RF readout\n",
    "    )\n",
    "\n",
    "    data_settings = DataSettingsDict(\n",
    "        db_name=\"prefect_demo\",\n",
    "        db_folder=os.getcwd(),\n",
    "        normalization_constants={\n",
    "            \"dc_current\": (-4.408e-07, 0.0024),\n",
    "            \"rf\": (0.002004, 0.00838),\n",
    "        },\n",
    "        segment_size=1,\n",
    "    )\n",
    "\n",
    "    return (\n",
    "        setpoint_settings,\n",
    "        readout_methods,\n",
    "        data_settings\n",
    "    )"
   ]
  },
  {
   "cell_type": "code",
   "execution_count": 7,
   "id": "b3caa409",
   "metadata": {},
   "outputs": [],
   "source": [
    "@task\n",
    "def compute_setpoints(setpoint_settings):\n",
    "    initial_voltages = get_current_voltages(\n",
    "        setpoint_settings[\"parameters_to_sweep\"]\n",
    "    )\n",
    "\n",
    "    current_valid_ranges = swap_range_limits_if_needed(\n",
    "        initial_voltages,\n",
    "        setpoint_settings[\"current_valid_ranges\"]\n",
    "    )\n",
    "\n",
    "    setpoints = compute_linear_setpoints(\n",
    "        current_valid_ranges,\n",
    "        setpoint_settings[\"voltage_precision\"],\n",
    "    )\n",
    "    return setpoints"
   ]
  },
  {
   "cell_type": "code",
   "execution_count": 8,
   "id": "501e5968",
   "metadata": {},
   "outputs": [],
   "source": [
    "@task\n",
    "def measure(setpoints, setpoint_settings, data_settings, readout_methods):\n",
    "    example_param = setpoint_settings[\"parameters_to_sweep\"][0]\n",
    "    device_name = example_param.name_parts[0]\n",
    "    nt_meta = prepare_metadata(\n",
    "        chip.C01R01.name,\n",
    "        data_settings[\"normalization_constants\"],\n",
    "        readout_methods,\n",
    "    )\n",
    "    dc_sensor = readout_methods.get(\"dc_sensor\")\n",
    "    rf = readout_methods.get(\"rf\")\n",
    "\n",
    "    def finish_early(current_output_dict):\n",
    "        if dc_sensor is not None:\n",
    "            dc_value = current_output_dict[str(dc_sensor)]\n",
    "        dc_value = 0.0\n",
    "        rf_value = current_output_dict[str(rf)]\n",
    "        return dc_value < 0.0001 and rf_value < 0.0001\n",
    "\n",
    "    run_id = take_data_add_metadata(\n",
    "        setpoint_settings[\"parameters_to_sweep\"],\n",
    "        list(readout_methods.values()),  # type: ignore\n",
    "        setpoints,\n",
    "        finish_early_check=finish_early,\n",
    "        do_at_inner_setpoint=ramp_to_setpoint,\n",
    "        pre_measurement_metadata=nt_meta,\n",
    "    )\n",
    "\n",
    "    return run_id"
   ]
  },
  {
   "cell_type": "code",
   "execution_count": 9,
   "id": "f54d84ed",
   "metadata": {},
   "outputs": [],
   "source": [
    "@task\n",
    "def plot(run_id, setpoint_settings, readout_methods):\n",
    "    ds = qc.load_by_id(run_id)\n",
    "    gate = setpoint_settings[\"parameters_to_sweep\"][0]\n",
    "    dc_sensor = readout_methods.get(\"dc_sensor\")\n",
    "    rf = readout_methods.get(\"rf\")\n",
    "    df_dict = ds.to_pandas_dataframe_dict()\n",
    "    if dc_sensor is not None:\n",
    "        return [df_dict[str(dc_sensor)].plot(), df_dict[str(rf)].plot()]\n",
    "    return df_dict[str(rf)].plot()"
   ]
  },
  {
   "cell_type": "code",
   "execution_count": 10,
   "id": "joint-klein",
   "metadata": {},
   "outputs": [],
   "source": [
    "@task\n",
    "def extract_features(run_id, data_settings):\n",
    "    ml_result: Dict[str, Any] = {}\n",
    "    ml_result[\"features\"] = get_extracted_features(\n",
    "        PinchoffFit,\n",
    "        run_id,\n",
    "        data_settings[\"db_name\"],\n",
    "        db_folder=data_settings[\"db_folder\"],\n",
    "    )\n",
    "    ml_result[\"quality\"] = check_measurement_quality(\n",
    "        classifier,\n",
    "        run_id,\n",
    "        data_settings[\"db_name\"],\n",
    "        db_folder=data_settings[\"db_folder\"],\n",
    "    )\n",
    "    ml_result[\"regime\"] = \"pinchoff\"\n",
    "    return ml_result"
   ]
  },
  {
   "cell_type": "code",
   "execution_count": 11,
   "id": "negative-thermal",
   "metadata": {},
   "outputs": [],
   "source": [
    "@task\n",
    "def save_features(run_id, ml_result, data_settings):\n",
    "    save_extracted_features(\n",
    "        PinchoffFit,\n",
    "        run_id,\n",
    "        data_settings[\"db_name\"],\n",
    "        db_folder=data_settings[\"db_folder\"],\n",
    "    )\n",
    "    save_machine_learning_result(run_id, ml_result)"
   ]
  },
  {
   "cell_type": "code",
   "execution_count": 12,
   "id": "macro-parts",
   "metadata": {},
   "outputs": [],
   "source": [
    "@task\n",
    "def verify_result(ml_result):\n",
    "    return bool(ml_result[\"quality\"])"
   ]
  },
  {
   "cell_type": "code",
   "execution_count": 13,
   "id": "a36bc425",
   "metadata": {},
   "outputs": [],
   "source": [
    "with Flow(\"Pinch-off\") as flow:\n",
    "    (setpoint_settings, readout_methods, data_settings) = create_settings()\n",
    "    setpoints = compute_setpoints(setpoint_settings)\n",
    "    run_id = measure(setpoints, setpoint_settings, data_settings, readout_methods)\n",
    "    figs = plot(run_id, setpoint_settings, readout_methods)\n",
    "    features = extract_features(run_id, data_settings)\n",
    "    save_features(run_id, features, data_settings)\n",
    "    success = verify_result(features)"
   ]
  },
  {
   "cell_type": "code",
   "execution_count": 14,
   "id": "497cdecf",
   "metadata": {},
   "outputs": [
    {
     "name": "stdout",
     "output_type": "stream",
     "text": [
      "[2021-05-28 13:13:57+0200] INFO - prefect.FlowRunner | Beginning Flow run for 'Pinch-off'\n",
      "[2021-05-28 13:13:57+0200] INFO - prefect.TaskRunner | Task 'create_settings': Starting task run...\n",
      "[2021-05-28 13:13:57+0200] INFO - prefect.TaskRunner | Task 'create_settings': Finished task run for task with final state: 'Success'\n",
      "[2021-05-28 13:13:57+0200] INFO - prefect.TaskRunner | Task 'create_settings[1]': Starting task run...\n",
      "[2021-05-28 13:13:57+0200] INFO - prefect.TaskRunner | Task 'create_settings[1]': Finished task run for task with final state: 'Success'\n",
      "[2021-05-28 13:13:57+0200] INFO - prefect.TaskRunner | Task 'create_settings[2]': Starting task run...\n",
      "[2021-05-28 13:13:57+0200] INFO - prefect.TaskRunner | Task 'create_settings[2]': Finished task run for task with final state: 'Success'\n",
      "[2021-05-28 13:13:57+0200] INFO - prefect.TaskRunner | Task 'create_settings[0]': Starting task run...\n",
      "[2021-05-28 13:13:57+0200] INFO - prefect.TaskRunner | Task 'create_settings[0]': Finished task run for task with final state: 'Success'\n",
      "[2021-05-28 13:13:57+0200] INFO - prefect.TaskRunner | Task 'compute_setpoints': Starting task run...\n",
      "[2021-05-28 13:13:57+0200] INFO - prefect.TaskRunner | Task 'compute_setpoints': Finished task run for task with final state: 'Success'\n",
      "[2021-05-28 13:13:57+0200] INFO - prefect.TaskRunner | Task 'measure': Starting task run...\n",
      "Starting experimental run with id: 13. \n",
      "[2021-05-28 13:14:09+0200] INFO - prefect.TaskRunner | Task 'measure': Finished task run for task with final state: 'Success'\n",
      "[2021-05-28 13:14:09+0200] INFO - prefect.TaskRunner | Task 'plot': Starting task run...\n",
      "[2021-05-28 13:14:09+0200] INFO - prefect.TaskRunner | Task 'plot': Finished task run for task with final state: 'Success'\n",
      "[2021-05-28 13:14:09+0200] INFO - prefect.TaskRunner | Task 'extract_features': Starting task run...\n"
     ]
    },
    {
     "name": "stderr",
     "output_type": "stream",
     "text": [
      "2021-05-28 13:14:10,017 ¦ nanotune.data.dataset ¦ WARNING ¦ dataset ¦ _normalize_data ¦ 245 ¦ ('Dataset 13: ', 'Wrong normalization constant')\n",
      "2021-05-28 13:14:10,091 ¦ nanotune.data.dataset ¦ WARNING ¦ dataset ¦ _normalize_data ¦ 245 ¦ ('Dataset 13: ', 'Wrong normalization constant')\n"
     ]
    },
    {
     "name": "stdout",
     "output_type": "stream",
     "text": [
      "[2021-05-28 13:14:10+0200] INFO - prefect.TaskRunner | Task 'extract_features': Finished task run for task with final state: 'Success'\n",
      "[2021-05-28 13:14:10+0200] INFO - prefect.TaskRunner | Task 'save_features': Starting task run...\n"
     ]
    },
    {
     "name": "stderr",
     "output_type": "stream",
     "text": [
      "2021-05-28 13:14:10,171 ¦ nanotune.data.dataset ¦ WARNING ¦ dataset ¦ _normalize_data ¦ 245 ¦ ('Dataset 13: ', 'Wrong normalization constant')\n"
     ]
    },
    {
     "name": "stdout",
     "output_type": "stream",
     "text": [
      "[2021-05-28 13:14:10+0200] INFO - prefect.TaskRunner | Task 'save_features': Finished task run for task with final state: 'Success'\n",
      "[2021-05-28 13:14:10+0200] INFO - prefect.TaskRunner | Task 'verify_result': Starting task run...\n",
      "[2021-05-28 13:14:10+0200] INFO - prefect.TaskRunner | Task 'verify_result': Finished task run for task with final state: 'Success'\n",
      "[2021-05-28 13:14:10+0200] INFO - prefect.FlowRunner | Flow run SUCCESS: all reference tasks succeeded\n"
     ]
    },
    {
     "data": {
      "image/png": "[encoded data removed]",
      "text/plain": [
       "<Figure size 432x288 with 1 Axes>"
      ]
     },
     "metadata": {
      "needs_background": "light"
     },
     "output_type": "display_data"
    }
   ],
   "source": [
    "state = flow.run()"
   ]
  },
  {
   "cell_type": "code",
   "execution_count": 15,
   "id": "9bb91fc9",
   "metadata": {},
   "outputs": [
    {
     "data": {
      "text/plain": [
       "<Success: \"All reference tasks succeeded.\">"
      ]
     },
     "execution_count": 15,
     "metadata": {},
     "output_type": "execute_result"
    }
   ],
   "source": [
    "state"
   ]
  },
  {
   "cell_type": "code",
   "execution_count": 16,
   "id": "brave-order",
   "metadata": {},
   "outputs": [
    {
     "ename": "NameError",
     "evalue": "name '_data_settings' is not defined",
     "output_type": "error",
     "traceback": [
      "\u001b[0;31m---------------------------------------------------------------------------\u001b[0m",
      "\u001b[0;31mNameError\u001b[0m                                 Traceback (most recent call last)",
      "\u001b[0;32m<ipython-input-16-3775022bc4c9>\u001b[0m in \u001b[0;36m<module>\u001b[0;34m\u001b[0m\n\u001b[0;32m----> 1\u001b[0;31m \u001b[0mml_result\u001b[0m \u001b[0;34m=\u001b[0m \u001b[0mextract_features\u001b[0m\u001b[0;34m.\u001b[0m\u001b[0mrun\u001b[0m\u001b[0;34m(\u001b[0m\u001b[0mstate\u001b[0m\u001b[0;34m.\u001b[0m\u001b[0mresult\u001b[0m\u001b[0;34m[\u001b[0m\u001b[0mrun_id\u001b[0m\u001b[0;34m]\u001b[0m\u001b[0;34m.\u001b[0m\u001b[0mresult\u001b[0m\u001b[0;34m,\u001b[0m \u001b[0m_data_settings\u001b[0m\u001b[0;34m)\u001b[0m\u001b[0;34m\u001b[0m\u001b[0;34m\u001b[0m\u001b[0m\n\u001b[0m\u001b[1;32m      2\u001b[0m \u001b[0mml_result\u001b[0m\u001b[0;34m\u001b[0m\u001b[0;34m\u001b[0m\u001b[0m\n",
      "\u001b[0;31mNameError\u001b[0m: name '_data_settings' is not defined"
     ]
    }
   ],
   "source": [
    "ml_result = extract_features.run(state.result[run_id].result, _data_settings)\n",
    "ml_result"
   ]
  },
  {
   "cell_type": "code",
   "execution_count": null,
   "id": "undefined-cleveland",
   "metadata": {},
   "outputs": [],
   "source": []
  }
 ],
 "metadata": {
  "kernelspec": {
   "display_name": "Python 3",
   "language": "python",
   "name": "python3"
  },
  "language_info": {
   "codemirror_mode": {
    "name": "ipython",
    "version": 3
   },
   "file_extension": ".py",
   "mimetype": "text/x-python",
   "name": "python",
   "nbconvert_exporter": "python",
   "pygments_lexer": "ipython3",
   "version": "3.7.9"
  }
 },
 "nbformat": 4,
 "nbformat_minor": 5
}
