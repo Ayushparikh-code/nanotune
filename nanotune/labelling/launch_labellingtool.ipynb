{
 "cells": [
  {
   "cell_type": "markdown",
   "metadata": {},
   "source": [
    "### Sandbox"
   ]
  },
  {
   "cell_type": "code",
   "execution_count": 1,
   "metadata": {},
   "outputs": [],
   "source": [
    "import matplotlib\n",
    "matplotlib.use('Qt5Agg')\n",
    "\n",
    "import sys\n",
    "\n",
    "\n",
    "from PyQt5.QtWidgets import QApplication\n",
    "\n",
    "from nanotune.labelling.labellingtool import LabellingTool\n",
    "\n",
    "from qcodes.dataset.experiment_container import (load_experiment_by_name,\n",
    "                                                 load_experiment,\n",
    "                                                 experiments)"
   ]
  },
  {
   "cell_type": "code",
   "execution_count": 2,
   "metadata": {},
   "outputs": [
    {
     "data": {
      "text/plain": [
       "'/Users/jana/Documents/code/Experiments/experiments.db'"
      ]
     },
     "execution_count": 2,
     "metadata": {},
     "output_type": "execute_result"
    }
   ],
   "source": [
    "import qcodes as qc\n",
    "qc.config[\"core\"][\"db_folder\"]"
   ]
  },
  {
   "cell_type": "code",
   "execution_count": 3,
   "metadata": {},
   "outputs": [
    {
     "name": "stdout",
     "output_type": "stream",
     "text": [
      "autotune\n",
      "nanotune_PO\n",
      "nanotune\n",
      "nanotune\n",
      "nanotune\n",
      "dac\n",
      "dac\n",
      "dac\n",
      "QDP_FIVEDOT\n",
      "nanotune\n",
      "labelling_test\n",
      "old_data\n"
     ]
    }
   ],
   "source": [
    "exps = experiments()\n",
    "for exp in exps:\n",
    "    print(exp.name)"
   ]
  },
  {
   "cell_type": "code",
   "execution_count": 4,
   "metadata": {},
   "outputs": [
    {
     "name": "stdout",
     "output_type": "stream",
     "text": [
      "data loaded\n",
      "1931\n"
     ]
    },
    {
     "name": "stderr",
     "output_type": "stream",
     "text": [
      "WARNING:root:Skipping this dataset Trying to make 0 plots, butreceived 1 axes objects.\n"
     ]
    }
   ],
   "source": [
    "app = QApplication(sys.argv)\n",
    "Gui = LabellingTool(12, start_over=False)"
   ]
  },
  {
   "cell_type": "code",
   "execution_count": 6,
   "metadata": {},
   "outputs": [],
   "source": [
    "exp = load_experiment(12)"
   ]
  },
  {
   "cell_type": "code",
   "execution_count": 1,
   "metadata": {},
   "outputs": [
    {
     "name": "stderr",
     "output_type": "stream",
     "text": [
      "C:\\Users\\Administrator\\Anasiga3\\envs\\qcodes_master\\lib\\site-packages\\h5py\\__init__.py:36: FutureWarning: Conversion of the sesig argument of issubdtype from `float` to `np.floating` is deprecated. In future, it will be treated as `np.float64 == np.dtype(float).type`.\n",
      "  from ._conv import register_converters as _register_converters\n"
     ]
    },
    {
     "data": {
      "text/plain": [
       "'C:\\\\Users\\\\Administrator\\\\Documents\\\\Experiments/experiments.db'"
      ]
     },
     "execution_count": 1,
     "metadata": {},
     "output_type": "execute_result"
    }
   ],
   "source": [
    "import qcodes as qc\n",
    "qc.config['core']['db_location']"
   ]
  },
  {
   "cell_type": "code",
   "execution_count": null,
   "metadata": {},
   "outputs": [],
   "source": []
  }
 ],
 "metadata": {
  "kernelspec": {
   "display_name": "Python 3",
   "language": "python",
   "name": "python3"
  },
  "language_info": {
   "codemirror_mode": {
    "name": "ipython",
    "version": 3
   },
   "file_extension": ".py",
   "mimetype": "text/x-python",
   "name": "python",
   "nbconvert_exporter": "python",
   "pygments_lexer": "ipython3",
   "version": "3.6.4"
  }
 },
 "nbformat": 4,
 "nbformat_minor": 2
}
